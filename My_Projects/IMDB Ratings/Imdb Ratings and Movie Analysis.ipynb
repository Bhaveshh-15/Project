{
 "cells": [
  {
   "cell_type": "markdown",
   "id": "49df1a83",
   "metadata": {},
   "source": [
    "# Data Analyst Project\n",
    "\n",
    "Name:Bhavesh Naik"
   ]
  },
  {
   "cell_type": "markdown",
   "id": "545efc00",
   "metadata": {},
   "source": [
    "#                    Data Analysis of IMDB Ratings from 2006 to 2016\n"
   ]
  },
  {
   "cell_type": "markdown",
   "id": "38eb3259",
   "metadata": {},
   "source": [
    "Data set Link:: https://www.kaggle.com/datasets/PromptCloudHQ/imdb-data?resource=download\n"
   ]
  },
  {
   "cell_type": "markdown",
   "id": "899e8399",
   "metadata": {},
   "source": [
    "STEP 1:\n",
    "importing Libraries\n"
   ]
  },
  {
   "cell_type": "code",
   "execution_count": 2,
   "id": "55b24bee",
   "metadata": {},
   "outputs": [],
   "source": [
    "import pandas as pd\n",
    "import matplotlib.pyplot as plt\n",
    "import seaborn as sns\n"
   ]
  },
  {
   "cell_type": "code",
   "execution_count": 3,
   "id": "eae49ed6",
   "metadata": {},
   "outputs": [],
   "source": [
    "data= pd.read_csv(\"D:/Programming/project/IMDB-Movie-Data.csv\")"
   ]
  },
  {
   "cell_type": "markdown",
   "id": "10940dc9",
   "metadata": {},
   "source": [
    "STEP 2:"
   ]
  },
  {
   "cell_type": "code",
   "execution_count": 4,
   "id": "12ef7074",
   "metadata": {},
   "outputs": [
    {
     "data": {
      "text/html": [
       "<div>\n",
       "<style scoped>\n",
       "    .dataframe tbody tr th:only-of-type {\n",
       "        vertical-align: middle;\n",
       "    }\n",
       "\n",
       "    .dataframe tbody tr th {\n",
       "        vertical-align: top;\n",
       "    }\n",
       "\n",
       "    .dataframe thead th {\n",
       "        text-align: right;\n",
       "    }\n",
       "</style>\n",
       "<table border=\"1\" class=\"dataframe\">\n",
       "  <thead>\n",
       "    <tr style=\"text-align: right;\">\n",
       "      <th></th>\n",
       "      <th>Rank</th>\n",
       "      <th>Title</th>\n",
       "      <th>Genre</th>\n",
       "      <th>Description</th>\n",
       "      <th>Director</th>\n",
       "      <th>Actors</th>\n",
       "      <th>Year</th>\n",
       "      <th>Runtime (Minutes)</th>\n",
       "      <th>Rating</th>\n",
       "      <th>Votes</th>\n",
       "      <th>Revenue (Millions)</th>\n",
       "      <th>Metascore</th>\n",
       "    </tr>\n",
       "  </thead>\n",
       "  <tbody>\n",
       "    <tr>\n",
       "      <th>0</th>\n",
       "      <td>1</td>\n",
       "      <td>Guardians of the Galaxy</td>\n",
       "      <td>Action,Adventure,Sci-Fi</td>\n",
       "      <td>A group of intergalactic criminals are forced ...</td>\n",
       "      <td>James Gunn</td>\n",
       "      <td>Chris Pratt, Vin Diesel, Bradley Cooper, Zoe S...</td>\n",
       "      <td>2014</td>\n",
       "      <td>121</td>\n",
       "      <td>8.1</td>\n",
       "      <td>757074</td>\n",
       "      <td>333.13</td>\n",
       "      <td>76.0</td>\n",
       "    </tr>\n",
       "    <tr>\n",
       "      <th>1</th>\n",
       "      <td>2</td>\n",
       "      <td>Prometheus</td>\n",
       "      <td>Adventure,Mystery,Sci-Fi</td>\n",
       "      <td>Following clues to the origin of mankind, a te...</td>\n",
       "      <td>Ridley Scott</td>\n",
       "      <td>Noomi Rapace, Logan Marshall-Green, Michael Fa...</td>\n",
       "      <td>2012</td>\n",
       "      <td>124</td>\n",
       "      <td>7.0</td>\n",
       "      <td>485820</td>\n",
       "      <td>126.46</td>\n",
       "      <td>65.0</td>\n",
       "    </tr>\n",
       "    <tr>\n",
       "      <th>2</th>\n",
       "      <td>3</td>\n",
       "      <td>Split</td>\n",
       "      <td>Horror,Thriller</td>\n",
       "      <td>Three girls are kidnapped by a man with a diag...</td>\n",
       "      <td>M. Night Shyamalan</td>\n",
       "      <td>James McAvoy, Anya Taylor-Joy, Haley Lu Richar...</td>\n",
       "      <td>2016</td>\n",
       "      <td>117</td>\n",
       "      <td>7.3</td>\n",
       "      <td>157606</td>\n",
       "      <td>138.12</td>\n",
       "      <td>62.0</td>\n",
       "    </tr>\n",
       "    <tr>\n",
       "      <th>3</th>\n",
       "      <td>4</td>\n",
       "      <td>Sing</td>\n",
       "      <td>Animation,Comedy,Family</td>\n",
       "      <td>In a city of humanoid animals, a hustling thea...</td>\n",
       "      <td>Christophe Lourdelet</td>\n",
       "      <td>Matthew McConaughey,Reese Witherspoon, Seth Ma...</td>\n",
       "      <td>2016</td>\n",
       "      <td>108</td>\n",
       "      <td>7.2</td>\n",
       "      <td>60545</td>\n",
       "      <td>270.32</td>\n",
       "      <td>59.0</td>\n",
       "    </tr>\n",
       "    <tr>\n",
       "      <th>4</th>\n",
       "      <td>5</td>\n",
       "      <td>Suicide Squad</td>\n",
       "      <td>Action,Adventure,Fantasy</td>\n",
       "      <td>A secret government agency recruits some of th...</td>\n",
       "      <td>David Ayer</td>\n",
       "      <td>Will Smith, Jared Leto, Margot Robbie, Viola D...</td>\n",
       "      <td>2016</td>\n",
       "      <td>123</td>\n",
       "      <td>6.2</td>\n",
       "      <td>393727</td>\n",
       "      <td>325.02</td>\n",
       "      <td>40.0</td>\n",
       "    </tr>\n",
       "  </tbody>\n",
       "</table>\n",
       "</div>"
      ],
      "text/plain": [
       "   Rank                    Title                     Genre  \\\n",
       "0     1  Guardians of the Galaxy   Action,Adventure,Sci-Fi   \n",
       "1     2               Prometheus  Adventure,Mystery,Sci-Fi   \n",
       "2     3                    Split           Horror,Thriller   \n",
       "3     4                     Sing   Animation,Comedy,Family   \n",
       "4     5            Suicide Squad  Action,Adventure,Fantasy   \n",
       "\n",
       "                                         Description              Director  \\\n",
       "0  A group of intergalactic criminals are forced ...            James Gunn   \n",
       "1  Following clues to the origin of mankind, a te...          Ridley Scott   \n",
       "2  Three girls are kidnapped by a man with a diag...    M. Night Shyamalan   \n",
       "3  In a city of humanoid animals, a hustling thea...  Christophe Lourdelet   \n",
       "4  A secret government agency recruits some of th...            David Ayer   \n",
       "\n",
       "                                              Actors  Year  Runtime (Minutes)  \\\n",
       "0  Chris Pratt, Vin Diesel, Bradley Cooper, Zoe S...  2014                121   \n",
       "1  Noomi Rapace, Logan Marshall-Green, Michael Fa...  2012                124   \n",
       "2  James McAvoy, Anya Taylor-Joy, Haley Lu Richar...  2016                117   \n",
       "3  Matthew McConaughey,Reese Witherspoon, Seth Ma...  2016                108   \n",
       "4  Will Smith, Jared Leto, Margot Robbie, Viola D...  2016                123   \n",
       "\n",
       "   Rating   Votes  Revenue (Millions)  Metascore  \n",
       "0     8.1  757074              333.13       76.0  \n",
       "1     7.0  485820              126.46       65.0  \n",
       "2     7.3  157606              138.12       62.0  \n",
       "3     7.2   60545              270.32       59.0  \n",
       "4     6.2  393727              325.02       40.0  "
      ]
     },
     "execution_count": 4,
     "metadata": {},
     "output_type": "execute_result"
    }
   ],
   "source": [
    "data.head()\n"
   ]
  },
  {
   "cell_type": "code",
   "execution_count": 5,
   "id": "8841a799",
   "metadata": {},
   "outputs": [
    {
     "data": {
      "text/html": [
       "<div>\n",
       "<style scoped>\n",
       "    .dataframe tbody tr th:only-of-type {\n",
       "        vertical-align: middle;\n",
       "    }\n",
       "\n",
       "    .dataframe tbody tr th {\n",
       "        vertical-align: top;\n",
       "    }\n",
       "\n",
       "    .dataframe thead th {\n",
       "        text-align: right;\n",
       "    }\n",
       "</style>\n",
       "<table border=\"1\" class=\"dataframe\">\n",
       "  <thead>\n",
       "    <tr style=\"text-align: right;\">\n",
       "      <th></th>\n",
       "      <th>Rank</th>\n",
       "      <th>Title</th>\n",
       "      <th>Genre</th>\n",
       "      <th>Description</th>\n",
       "      <th>Director</th>\n",
       "      <th>Actors</th>\n",
       "      <th>Year</th>\n",
       "      <th>Runtime (Minutes)</th>\n",
       "      <th>Rating</th>\n",
       "      <th>Votes</th>\n",
       "      <th>Revenue (Millions)</th>\n",
       "      <th>Metascore</th>\n",
       "    </tr>\n",
       "  </thead>\n",
       "  <tbody>\n",
       "    <tr>\n",
       "      <th>995</th>\n",
       "      <td>996</td>\n",
       "      <td>Secret in Their Eyes</td>\n",
       "      <td>Crime,Drama,Mystery</td>\n",
       "      <td>A tight-knit team of rising investigators, alo...</td>\n",
       "      <td>Billy Ray</td>\n",
       "      <td>Chiwetel Ejiofor, Nicole Kidman, Julia Roberts...</td>\n",
       "      <td>2015</td>\n",
       "      <td>111</td>\n",
       "      <td>6.2</td>\n",
       "      <td>27585</td>\n",
       "      <td>NaN</td>\n",
       "      <td>45.0</td>\n",
       "    </tr>\n",
       "    <tr>\n",
       "      <th>996</th>\n",
       "      <td>997</td>\n",
       "      <td>Hostel: Part II</td>\n",
       "      <td>Horror</td>\n",
       "      <td>Three American college students studying abroa...</td>\n",
       "      <td>Eli Roth</td>\n",
       "      <td>Lauren German, Heather Matarazzo, Bijou Philli...</td>\n",
       "      <td>2007</td>\n",
       "      <td>94</td>\n",
       "      <td>5.5</td>\n",
       "      <td>73152</td>\n",
       "      <td>17.54</td>\n",
       "      <td>46.0</td>\n",
       "    </tr>\n",
       "    <tr>\n",
       "      <th>997</th>\n",
       "      <td>998</td>\n",
       "      <td>Step Up 2: The Streets</td>\n",
       "      <td>Drama,Music,Romance</td>\n",
       "      <td>Romantic sparks occur between two dance studen...</td>\n",
       "      <td>Jon M. Chu</td>\n",
       "      <td>Robert Hoffman, Briana Evigan, Cassie Ventura,...</td>\n",
       "      <td>2008</td>\n",
       "      <td>98</td>\n",
       "      <td>6.2</td>\n",
       "      <td>70699</td>\n",
       "      <td>58.01</td>\n",
       "      <td>50.0</td>\n",
       "    </tr>\n",
       "    <tr>\n",
       "      <th>998</th>\n",
       "      <td>999</td>\n",
       "      <td>Search Party</td>\n",
       "      <td>Adventure,Comedy</td>\n",
       "      <td>A pair of friends embark on a mission to reuni...</td>\n",
       "      <td>Scot Armstrong</td>\n",
       "      <td>Adam Pally, T.J. Miller, Thomas Middleditch,Sh...</td>\n",
       "      <td>2014</td>\n",
       "      <td>93</td>\n",
       "      <td>5.6</td>\n",
       "      <td>4881</td>\n",
       "      <td>NaN</td>\n",
       "      <td>22.0</td>\n",
       "    </tr>\n",
       "    <tr>\n",
       "      <th>999</th>\n",
       "      <td>1000</td>\n",
       "      <td>Nine Lives</td>\n",
       "      <td>Comedy,Family,Fantasy</td>\n",
       "      <td>A stuffy businessman finds himself trapped ins...</td>\n",
       "      <td>Barry Sonnenfeld</td>\n",
       "      <td>Kevin Spacey, Jennifer Garner, Robbie Amell,Ch...</td>\n",
       "      <td>2016</td>\n",
       "      <td>87</td>\n",
       "      <td>5.3</td>\n",
       "      <td>12435</td>\n",
       "      <td>19.64</td>\n",
       "      <td>11.0</td>\n",
       "    </tr>\n",
       "  </tbody>\n",
       "</table>\n",
       "</div>"
      ],
      "text/plain": [
       "     Rank                   Title                  Genre  \\\n",
       "995   996    Secret in Their Eyes    Crime,Drama,Mystery   \n",
       "996   997         Hostel: Part II                 Horror   \n",
       "997   998  Step Up 2: The Streets    Drama,Music,Romance   \n",
       "998   999            Search Party       Adventure,Comedy   \n",
       "999  1000              Nine Lives  Comedy,Family,Fantasy   \n",
       "\n",
       "                                           Description          Director  \\\n",
       "995  A tight-knit team of rising investigators, alo...         Billy Ray   \n",
       "996  Three American college students studying abroa...          Eli Roth   \n",
       "997  Romantic sparks occur between two dance studen...        Jon M. Chu   \n",
       "998  A pair of friends embark on a mission to reuni...    Scot Armstrong   \n",
       "999  A stuffy businessman finds himself trapped ins...  Barry Sonnenfeld   \n",
       "\n",
       "                                                Actors  Year  \\\n",
       "995  Chiwetel Ejiofor, Nicole Kidman, Julia Roberts...  2015   \n",
       "996  Lauren German, Heather Matarazzo, Bijou Philli...  2007   \n",
       "997  Robert Hoffman, Briana Evigan, Cassie Ventura,...  2008   \n",
       "998  Adam Pally, T.J. Miller, Thomas Middleditch,Sh...  2014   \n",
       "999  Kevin Spacey, Jennifer Garner, Robbie Amell,Ch...  2016   \n",
       "\n",
       "     Runtime (Minutes)  Rating  Votes  Revenue (Millions)  Metascore  \n",
       "995                111     6.2  27585                 NaN       45.0  \n",
       "996                 94     5.5  73152               17.54       46.0  \n",
       "997                 98     6.2  70699               58.01       50.0  \n",
       "998                 93     5.6   4881                 NaN       22.0  \n",
       "999                 87     5.3  12435               19.64       11.0  "
      ]
     },
     "execution_count": 5,
     "metadata": {},
     "output_type": "execute_result"
    }
   ],
   "source": [
    "data.tail()\n"
   ]
  },
  {
   "cell_type": "markdown",
   "id": "56be9bf6",
   "metadata": {},
   "source": [
    "Analysing Data Frame\n",
    ":shape,index,columns,rows,dtype,unique,nunique,count"
   ]
  },
  {
   "cell_type": "code",
   "execution_count": 6,
   "id": "c7fa9356",
   "metadata": {},
   "outputs": [
    {
     "data": {
      "text/plain": [
       "(1000, 12)"
      ]
     },
     "execution_count": 6,
     "metadata": {},
     "output_type": "execute_result"
    }
   ],
   "source": [
    "data.shape\n"
   ]
  },
  {
   "cell_type": "code",
   "execution_count": 7,
   "id": "0de430f4",
   "metadata": {},
   "outputs": [
    {
     "data": {
      "text/plain": [
       "RangeIndex(start=0, stop=1000, step=1)"
      ]
     },
     "execution_count": 7,
     "metadata": {},
     "output_type": "execute_result"
    }
   ],
   "source": [
    "data.index"
   ]
  },
  {
   "cell_type": "code",
   "execution_count": 8,
   "id": "8abf3f81",
   "metadata": {},
   "outputs": [
    {
     "data": {
      "text/plain": [
       "Index(['Rank', 'Title', 'Genre', 'Description', 'Director', 'Actors', 'Year',\n",
       "       'Runtime (Minutes)', 'Rating', 'Votes', 'Revenue (Millions)',\n",
       "       'Metascore'],\n",
       "      dtype='object')"
      ]
     },
     "execution_count": 8,
     "metadata": {},
     "output_type": "execute_result"
    }
   ],
   "source": [
    "data.columns"
   ]
  },
  {
   "cell_type": "code",
   "execution_count": 9,
   "id": "b96a1a05",
   "metadata": {},
   "outputs": [
    {
     "data": {
      "text/plain": [
       "Rank                    int64\n",
       "Title                  object\n",
       "Genre                  object\n",
       "Description            object\n",
       "Director               object\n",
       "Actors                 object\n",
       "Year                    int64\n",
       "Runtime (Minutes)       int64\n",
       "Rating                float64\n",
       "Votes                   int64\n",
       "Revenue (Millions)    float64\n",
       "Metascore             float64\n",
       "dtype: object"
      ]
     },
     "execution_count": 9,
     "metadata": {},
     "output_type": "execute_result"
    }
   ],
   "source": [
    "data.dtypes"
   ]
  },
  {
   "cell_type": "code",
   "execution_count": 10,
   "id": "dae42af6",
   "metadata": {},
   "outputs": [
    {
     "data": {
      "text/html": [
       "<div>\n",
       "<style scoped>\n",
       "    .dataframe tbody tr th:only-of-type {\n",
       "        vertical-align: middle;\n",
       "    }\n",
       "\n",
       "    .dataframe tbody tr th {\n",
       "        vertical-align: top;\n",
       "    }\n",
       "\n",
       "    .dataframe thead th {\n",
       "        text-align: right;\n",
       "    }\n",
       "</style>\n",
       "<table border=\"1\" class=\"dataframe\">\n",
       "  <thead>\n",
       "    <tr style=\"text-align: right;\">\n",
       "      <th></th>\n",
       "      <th>Rank</th>\n",
       "      <th>Year</th>\n",
       "      <th>Runtime (Minutes)</th>\n",
       "      <th>Rating</th>\n",
       "      <th>Votes</th>\n",
       "      <th>Revenue (Millions)</th>\n",
       "      <th>Metascore</th>\n",
       "    </tr>\n",
       "  </thead>\n",
       "  <tbody>\n",
       "    <tr>\n",
       "      <th>count</th>\n",
       "      <td>1000.000000</td>\n",
       "      <td>1000.000000</td>\n",
       "      <td>1000.000000</td>\n",
       "      <td>1000.000000</td>\n",
       "      <td>1.000000e+03</td>\n",
       "      <td>872.000000</td>\n",
       "      <td>936.000000</td>\n",
       "    </tr>\n",
       "    <tr>\n",
       "      <th>mean</th>\n",
       "      <td>500.500000</td>\n",
       "      <td>2012.783000</td>\n",
       "      <td>113.172000</td>\n",
       "      <td>6.723200</td>\n",
       "      <td>1.698083e+05</td>\n",
       "      <td>82.956376</td>\n",
       "      <td>58.985043</td>\n",
       "    </tr>\n",
       "    <tr>\n",
       "      <th>std</th>\n",
       "      <td>288.819436</td>\n",
       "      <td>3.205962</td>\n",
       "      <td>18.810908</td>\n",
       "      <td>0.945429</td>\n",
       "      <td>1.887626e+05</td>\n",
       "      <td>103.253540</td>\n",
       "      <td>17.194757</td>\n",
       "    </tr>\n",
       "    <tr>\n",
       "      <th>min</th>\n",
       "      <td>1.000000</td>\n",
       "      <td>2006.000000</td>\n",
       "      <td>66.000000</td>\n",
       "      <td>1.900000</td>\n",
       "      <td>6.100000e+01</td>\n",
       "      <td>0.000000</td>\n",
       "      <td>11.000000</td>\n",
       "    </tr>\n",
       "    <tr>\n",
       "      <th>25%</th>\n",
       "      <td>250.750000</td>\n",
       "      <td>2010.000000</td>\n",
       "      <td>100.000000</td>\n",
       "      <td>6.200000</td>\n",
       "      <td>3.630900e+04</td>\n",
       "      <td>13.270000</td>\n",
       "      <td>47.000000</td>\n",
       "    </tr>\n",
       "    <tr>\n",
       "      <th>50%</th>\n",
       "      <td>500.500000</td>\n",
       "      <td>2014.000000</td>\n",
       "      <td>111.000000</td>\n",
       "      <td>6.800000</td>\n",
       "      <td>1.107990e+05</td>\n",
       "      <td>47.985000</td>\n",
       "      <td>59.500000</td>\n",
       "    </tr>\n",
       "    <tr>\n",
       "      <th>75%</th>\n",
       "      <td>750.250000</td>\n",
       "      <td>2016.000000</td>\n",
       "      <td>123.000000</td>\n",
       "      <td>7.400000</td>\n",
       "      <td>2.399098e+05</td>\n",
       "      <td>113.715000</td>\n",
       "      <td>72.000000</td>\n",
       "    </tr>\n",
       "    <tr>\n",
       "      <th>max</th>\n",
       "      <td>1000.000000</td>\n",
       "      <td>2016.000000</td>\n",
       "      <td>191.000000</td>\n",
       "      <td>9.000000</td>\n",
       "      <td>1.791916e+06</td>\n",
       "      <td>936.630000</td>\n",
       "      <td>100.000000</td>\n",
       "    </tr>\n",
       "  </tbody>\n",
       "</table>\n",
       "</div>"
      ],
      "text/plain": [
       "              Rank         Year  Runtime (Minutes)       Rating         Votes  \\\n",
       "count  1000.000000  1000.000000        1000.000000  1000.000000  1.000000e+03   \n",
       "mean    500.500000  2012.783000         113.172000     6.723200  1.698083e+05   \n",
       "std     288.819436     3.205962          18.810908     0.945429  1.887626e+05   \n",
       "min       1.000000  2006.000000          66.000000     1.900000  6.100000e+01   \n",
       "25%     250.750000  2010.000000         100.000000     6.200000  3.630900e+04   \n",
       "50%     500.500000  2014.000000         111.000000     6.800000  1.107990e+05   \n",
       "75%     750.250000  2016.000000         123.000000     7.400000  2.399098e+05   \n",
       "max    1000.000000  2016.000000         191.000000     9.000000  1.791916e+06   \n",
       "\n",
       "       Revenue (Millions)   Metascore  \n",
       "count          872.000000  936.000000  \n",
       "mean            82.956376   58.985043  \n",
       "std            103.253540   17.194757  \n",
       "min              0.000000   11.000000  \n",
       "25%             13.270000   47.000000  \n",
       "50%             47.985000   59.500000  \n",
       "75%            113.715000   72.000000  \n",
       "max            936.630000  100.000000  "
      ]
     },
     "execution_count": 10,
     "metadata": {},
     "output_type": "execute_result"
    }
   ],
   "source": [
    "data.describe()"
   ]
  },
  {
   "cell_type": "code",
   "execution_count": 11,
   "id": "1e8a64eb",
   "metadata": {},
   "outputs": [
    {
     "data": {
      "text/plain": [
       "array(['James Gunn', 'Ridley Scott', 'M. Night Shyamalan',\n",
       "       'Christophe Lourdelet', 'David Ayer', 'Yimou Zhang',\n",
       "       'Damien Chazelle', 'Sean Foley', 'James Gray', 'Morten Tyldum',\n",
       "       'David Yates', 'Theodore Melfi', 'Gareth Edwards', 'Ron Clements',\n",
       "       'Nacho Vigalondo', 'Chris Renaud', 'Mel Gibson', 'Paul Greengrass',\n",
       "       'Garth Davis', 'Denis Villeneuve', 'Stephen Gaghan',\n",
       "       'Kenneth Lonergan', 'Ben Young', 'Walt Dohrn', 'Roland Emmerich',\n",
       "       'Dominique Abel', 'S.S. Rajamouli', 'Phillip Guzman', 'Jon Lucas',\n",
       "       'Justin Kurzel', 'John Hamburg', 'Tom Ford', 'Bryan Singer',\n",
       "       'Tim Miller', 'Paul W.S. Anderson', 'Anthony Russo',\n",
       "       'Christopher Nolan', 'Scott Derrickson', 'Antoine Fuqua',\n",
       "       'Patrick Read Johnson', 'Greg Tiernan', 'Barry Jenkins',\n",
       "       'Shawn Burkett', 'John Lee Hancock', 'Ricardo de Montreuil',\n",
       "       'Rob Marshall', 'John Madden', 'Scott Hicks', 'Justin Lin',\n",
       "       'Sean Penn', 'J.J. Abrams', 'Anna Foerster', 'Garry Marshall',\n",
       "       'Chad Stahelski', 'Martin Scorsese', 'Fede Alvarez',\n",
       "       'Thea Sharrock', 'Lone Scherfig', 'Clint Eastwood', 'Zack Snyder',\n",
       "       'André Øvredal', 'Tate Taylor', 'Sam Taylor-Johnson',\n",
       "       'Matthew Vaughn', 'Peter Berg', 'George Miller', 'Robin Swicord',\n",
       "       'Terry George', 'Robert Zemeckis', 'J.A. Bayona', 'David Frankel',\n",
       "       'Byron Howard', 'Gore Verbinski', 'Joss Whedon',\n",
       "       'Quentin Tarantino', 'Paul Feig', 'Matt Ross', 'David Fincher',\n",
       "       'James Wan', 'Colin Trevorrow', 'Ben Affleck', 'James Cameron',\n",
       "       \"Gavin O'Connor\", 'Duncan Jones', 'Todd Phillips', 'Shane Black',\n",
       "       'Makoto Shinkai', 'Jeremy Gillespie', 'Olivier Assayas',\n",
       "       'Brian Helgeland', 'Kenneth Branagh', 'Oriol Paulo', 'Guy Ritchie',\n",
       "       'David Mackenzie', 'Taylor Hackford', 'Katie Holmes',\n",
       "       'Alex Garland', 'Greg McLean', 'Steve McQueen',\n",
       "       'Ana Lily Amirpour', 'Josh Gordon', 'Nicolas Winding Refn',\n",
       "       'Nitesh Tiwari', 'Dan Trachtenberg', 'Andrew Stanton',\n",
       "       'Tim Burton', 'Neil Burger', 'Jake Szymanski', 'Todor Chapkanov',\n",
       "       'Jon Favreau', 'Michael Bay', 'Henry Joost', 'Phyllida Lloyd',\n",
       "       'Alejandro González Iñárritu', 'Denzel Washington',\n",
       "       'Jaume Collet-Serra', 'Derek Cianfrance', 'Ethan Coen',\n",
       "       'Baz Luhrmann', 'Martin Koolhoven', 'Thor Freudenthal',\n",
       "       'Adam McKay', 'Lenny Abrahamson', 'Chan-wook Park',\n",
       "       'Kelly Fremon Craig', 'Greg Mottola', 'Ron Howard',\n",
       "       'Steven Spielberg', 'Gary Ross', 'Elizabeth Wood', 'David Lynch',\n",
       "       'Colin Strause', 'Guillermo del Toro', 'Glenn Ficarra',\n",
       "       'Edgar Wright', 'Fabio Guaglione', 'Ben Wheatley', 'Edward Zwick',\n",
       "       'Martin Campbell', 'Catherine Hardwicke', 'Jon M. Chu',\n",
       "       'Simon Curtis', 'Sam Mendes', 'Dan Gilroy', 'Travis Knight',\n",
       "       'Jackson Stewart', 'Spike Jonze', 'Chris Buck', 'Brad Bird',\n",
       "       'Matt Reeves', 'Ben Stiller', 'Peyton Reed', 'Sharon Maguire',\n",
       "       'Robert Eggers', 'Mateo Gil', 'Asghar Farhadi', 'Gaspar Noé',\n",
       "       'Ang Lee', 'Judd Apatow', 'April Mullen', 'Tom McCarthy',\n",
       "       'Luke Scott', 'Joe Johnston', 'Akan Satayev',\n",
       "       'Rawson Marshall Thurber', 'Doug Liman', 'Oliver Stone',\n",
       "       'Robert Schwentke', 'Julia Ducournau', 'Jim Jarmusch',\n",
       "       'Colm McCarthy', 'Brad Peyton', 'Harmony Korine', 'Spike Lee',\n",
       "       'Alan Taylor', 'Alex Proyas', 'Chris Wedge', 'Liam Gavin',\n",
       "       'Ilya Naishuller', 'John Lasseter', 'David Robert Mitchell',\n",
       "       'Andrea Arnold', 'Yorgos Lanthimos', 'Nimród Antal',\n",
       "       'Robert Stromberg', 'Steven Shainberg', 'Andy Goddard',\n",
       "       'Christopher McQuarrie', 'Cedric Nicolas-Troyan',\n",
       "       'Stephen Chbosky', 'Pablo Larraín', 'D.J. Caruso', 'Wes Anderson',\n",
       "       'Andrew Niccol', 'Pete Docter', 'Ash Brannon', 'Chris Columbus',\n",
       "       'Tom Hooper', 'Alfonso Cuarón', 'Mike Mills', 'Olivier Nakache',\n",
       "       'Eleanor Coppola', 'F. Gary Gray', 'Marc Webb', 'Rupert Wyatt',\n",
       "       'David F. Sandberg', 'Joseph Cedar', 'Darren Aronofsky',\n",
       "       'Justin Simien', 'Lars von Trier', 'Dave Green', 'Eli Roth',\n",
       "       'Dan Mazer', 'Tom Tykwer', 'Gavin Hood', 'Jeffrey G. Hunt',\n",
       "       'Peter Jackson', 'Phil Lord', 'John Carney', 'Eric Summer',\n",
       "       'Joseph Kosinski', 'Richard Linklater', 'Louis Leterrier',\n",
       "       'Brett Ratner', 'Lana Wachowski', 'Jared Hess', 'Jalil Lespert',\n",
       "       'Sang-ho Yeon', 'Jason Moore', 'Nicholas Stoller', 'David Leveaux',\n",
       "       'Ross Katz', 'Mike Thurmeier', 'Brad Furman',\n",
       "       'Paul Thomas Anderson', 'Drew Goddard', 'Fred Wolf',\n",
       "       'Jim Field Smith', 'James Bobin', 'Gary Michael Schultz',\n",
       "       'Christian Ditter', 'Abdellatif Kechiche', 'Jennifer Kent',\n",
       "       'Bong Joon Ho', 'J Blakeson', 'Dan Berk', 'Anne Fletcher',\n",
       "       'So Yong Kim', 'Breck Eisner', 'Paul McGuigan',\n",
       "       'Roger Spottiswoode', 'Jeremy Saulnier', 'Michael Mann',\n",
       "       'Jean-Marc Vallée', 'Mike Flanagan', 'David O. Russell',\n",
       "       'Alexi Pappas', 'Josh Boone', 'Frank Coraci', 'Rian Johnson',\n",
       "       'David Lowery', 'Sam Raimi', 'Karyn Kusama', 'Woody Allen',\n",
       "       'William Oldroyd', 'Jocelyn Moorhouse', 'Sergei Bodrov',\n",
       "       'Hugo Gélin', 'James Marsh', 'Evan Goldberg', 'Richard Curtis',\n",
       "       'Jon Watts', 'Ruben Fleischer', 'Danny Boyle', 'Bill Condon',\n",
       "       'Alex Ranarivelo', 'Timur Bekmambetov', 'J.D. Dillard', 'Wes Ball',\n",
       "       'Ariel Vromen', 'Stephen Frears', 'Eran Creevy', 'Scott Cooper',\n",
       "       'Ryan Coogler', 'Dan Kwan', 'Patrick Hughes', 'Jemaine Clement',\n",
       "       'Baltasar Kormákur', 'James Mangold', 'Peter Atencio',\n",
       "       'Pierre Morel', 'Gillies MacKinnon', 'Dennis Dugan',\n",
       "       'Lee Toland Krieger', 'Peter Billingsley', 'Terry Jones',\n",
       "       'Steven Soderbergh', 'Kyle Balda', 'Rolfe Kanefsky',\n",
       "       'Pierre Coffin', 'Michael Hoffman', 'Kathryn Bigelow',\n",
       "       'Nathan Greno', 'Francis Lawrence', 'John Francis Daley',\n",
       "       'Elizabeth Banks', 'Dan Scanlon', 'Paul Verhoeven',\n",
       "       'Dennis Gansel', 'Kevin Smith', 'Mark Williams', 'Joe Wright',\n",
       "       'David Ross', 'Burr Steers', 'Noam Murro', 'Babak Najafi',\n",
       "       'Frank Miller', 'Srdjan Spasojevic', 'James DeMonaco',\n",
       "       'Rajkumar Hirani', 'Marc Forster', 'Corey Asraf', 'Jon S. Baird',\n",
       "       'George Tillman Jr.', 'Jeff Wadlow', 'Jeff Grace', 'John Crowley',\n",
       "       'Henry Selick', 'Michael J. Gallagher', 'Christophe Gans',\n",
       "       'Pete Travis', 'Taika Waititi', 'Don Hall', 'Kimberly Peirce',\n",
       "       'Christian Alvart', 'Thomas Vinterberg', 'Etan Cohen',\n",
       "       'William Brent Bell', 'Mick Jackson', 'Michael Spierig',\n",
       "       'Rob Letterman', 'Phillip Noyce', 'Neill Blomkamp',\n",
       "       'Sofia Coppola', 'Dexter Fletcher',\n",
       "       'Florian Henckel von Donnersmarck', 'Carles Torrens',\n",
       "       'Amber Tamblyn', 'John Hillcoat', 'Paolo Genovese', 'Clay Kaytis',\n",
       "       'Adam Shankman', 'Lasse Hallström', 'Jim Mickle', 'Albert Hughes',\n",
       "       'Ericson Core', 'Jonathan Glazer', 'Barry Sonnenfeld',\n",
       "       'Todd Haynes', 'Daniel Ragussis', 'Paolo Sorrentino',\n",
       "       'Jaco Van Dormael', 'Mark Herman', 'S. Craig Zahler',\n",
       "       'Gregory Jacobs', 'Will Gluck', 'Biyi Bandele', 'Sean Ellis',\n",
       "       'Andrey Kravchuk', 'David Schwimmer', 'George Nolfi',\n",
       "       'Tony Gilroy', 'Simon Verhoeven', 'Tony Scott', 'Luc Besson',\n",
       "       'Terence Davies', 'Scott Waugh', 'Steven Brill',\n",
       "       'Alexandros Avranas', 'Ewan McGregor', 'Roman Polanski',\n",
       "       'Nic Mathieu', 'Richard LaGravenese', 'Mora Stephens',\n",
       "       'Jeff Nichols', 'Mike Birbiglia', 'Philippe Falardeau',\n",
       "       'Ken Loach', 'Josh Trank', 'Stephen Fingleton',\n",
       "       'Florian Gallenberger', 'Rob Cohen', 'Joel Edgerton', 'Gary Shore',\n",
       "       'Mike Judge', 'Sylvester Stallone', 'Rich Moore', 'Rupert Sanders',\n",
       "       'Jason Reitman', 'Jodie Foster', 'Nick Cassavetes', 'Kevin Lima',\n",
       "       'Nancy Meyers', 'Jonathan Dayton', 'Ben Younger',\n",
       "       'Craig Gillespie', 'Andrew Jarecki', 'John Stockwell',\n",
       "       'Jake Kasdan', 'Kirk Jones', 'Bennett Miller',\n",
       "       'Mark Steven Johnson', 'Angelina Jolie', 'Tarsem Singh',\n",
       "       'Mark Andrews', 'Niels Arden Oplev', 'Anne Fontaine',\n",
       "       'Michaël R. Roskam', 'Andy Fickman', 'Sean Anders', 'Tom McGrath',\n",
       "       'Jean-François Richet', 'Ken Kwapis', 'Alessandro Carloni',\n",
       "       'Zackary Adler', 'John Butler', 'Debra Granik', 'Seth Gordon',\n",
       "       'Xavier Dolan', 'Maren Ade', 'Andrew Dominik',\n",
       "       'Joseph Gordon-Levitt', 'James Watkins', 'Joey Curtis',\n",
       "       'Paco Cabezas', 'Rick Famuyiwa', 'Måns Mårlind', 'Marcus Nispel',\n",
       "       'Olivier Megaton', 'Len Wiseman', 'Will Slocombe', 'Courtney Hunt',\n",
       "       'Shawn Levy', 'Michael Goi', 'Levan Gabriadze', 'Jon Hurwitz',\n",
       "       'Gabriele Muccino', 'Damián Szifron', 'François Ozon',\n",
       "       'John Wells', 'Jonathan Holbrook', 'Julia Leigh', 'Mark Waters',\n",
       "       'Afonso Poyart', 'Akiva Schaffer', 'Hope Dickson Leach',\n",
       "       'Jonathan Liebesman', 'David Cronenberg', 'Simon Stone',\n",
       "       'David Gordon Green', 'Jon Kasdan', 'Mia Hansen-Løve',\n",
       "       'Alejandro Amenábar', 'Seth MacFarlane', 'Atom Egoyan',\n",
       "       'Daniel Espinosa', 'John Michael McDonagh', 'Frank Darabont',\n",
       "       'Mikael Håfström', 'Ari Sandel', 'Jee-woon Kim', 'Lynne Ramsay',\n",
       "       'Whit Stillman', 'Harald Zwart', 'Lee Unkrich', 'Tomas Alfredson',\n",
       "       'Gauri Shinde', 'Michael Grandage', 'Jamie Linden', 'Mike Cahill',\n",
       "       'Caleb Vetter', 'Michael Haneke', 'Marcus Dunstan',\n",
       "       'John Krasinski', 'David Dobkin', 'Michael Dudok de Wit',\n",
       "       'Jorge R. Gutiérrez', 'Bobby Farrelly', 'Doug Ellin',\n",
       "       'Bryan Bertino', 'Adam Wingard', 'Joe Carnahan', 'Simon Aboud',\n",
       "       'Bruce Beresford', 'Oz Perkins', 'Terrence Malick', 'Ben Falcone',\n",
       "       'Jonathan Jakubowicz', 'Juan José Campanella', 'Max Joseph',\n",
       "       'Chris Stokes', 'Warren Beatty', 'Gregory Hoblit',\n",
       "       'Martin McDonagh', 'McG', 'Filip Renc', 'Ed Gass-Donnelly',\n",
       "       'Jamal Hill', 'Kirsten Sheridan', 'Jake Schreier', 'Walter Hill',\n",
       "       'Dean DeBlois', 'Rob Zombie', 'Tyler Shields', 'Hisonni Johnson',\n",
       "       'Matt Brown', 'Bruce A. Evans', 'Adam Leon', 'Chris Evans',\n",
       "       'Jim Sheridan', 'Stewart Hendler', 'Genndy Tartakovsky',\n",
       "       'Claude Barras', 'Asger Leth', 'Ivan Reitman', 'Werner Herzog',\n",
       "       'Scott Frank', 'Mike Newell', 'James Ponsoldt', 'Amma Asante',\n",
       "       'Mario Van Peebles', 'François Simard', 'Andrés Muschietti',\n",
       "       'John Moore', 'John R. Leonetti', 'Saul Dibb', 'Terry Gilliam',\n",
       "       'Stephen Sommers', 'Antonio Campos', 'Dito Montiel',\n",
       "       'Phil Claydon', 'Farren Blackburn', 'Matthias Hoene',\n",
       "       'Robert Rodriguez', 'Jason Friedberg', 'David Bowers',\n",
       "       'Cary Joji Fukunaga', 'Andy Tennant', 'Larry Charles',\n",
       "       'Erik Van Looy', 'Cristian Mungiu', 'Gee Malik Linton',\n",
       "       'Aisling Walsh', 'Luca Guadagnino', 'Tim Johnson',\n",
       "       'Giuseppe Tornatore', 'Nathan Morlando', 'Robert Luketic',\n",
       "       'Mark Osborne', 'Malcolm D. Lee', 'Alexandre Aja', 'Allen Coulter',\n",
       "       'Naoko Yamada', 'Miguel Arteta', 'Steven Knight', 'James Schamus',\n",
       "       'Kyle Patrick Alvarez', 'Hannes Holm', 'James Wong', 'Dan Bradley',\n",
       "       'Greg Berlanti', 'Juan Carlos Fresnadillo', 'Jonathan Levine',\n",
       "       'Hideaki Anno', 'Wally Pfister', 'Carlos Saldanha',\n",
       "       'Drake Doremus', 'Femi Oyeniran', 'Michael Patrick King',\n",
       "       'Peter Landesman', 'Gary Winick', 'Leslye Headland',\n",
       "       'David R. Ellis', 'Michael Dowse', 'José Padilha', 'James Franco',\n",
       "       'Michael Showalter', 'Matteo Garrone', 'Gabor Csupo',\n",
       "       'James Ward Byrkit', 'Hong-jin Na', 'Simon West', 'Gregory Wilson',\n",
       "       'Chris Weitz', 'Neil Marshall', 'Christopher Landon',\n",
       "       'John Erick Dowdle', 'Lee Daniels', 'Gus Van Sant', 'Chris McCoy',\n",
       "       'Craig Brewer', 'R.J. Cutler', 'Ido Fluk', 'Christopher Smith',\n",
       "       'Anna Biller', 'Tom Six', 'Richie Smyth', 'Ryûhei Kitamura',\n",
       "       'David Slade', 'Greg Kwedar', 'Mark Mylod', 'David Twohy',\n",
       "       'Justin Kelly', 'Justin Tipping', 'Alfonso Gomez-Rejon',\n",
       "       'Alexander Payne', 'Jordan Vogt-Roberts', 'Tom Gormican',\n",
       "       'Scott Stewart', 'Patricia Rozema', 'Justin Chadwick',\n",
       "       'Steven R. Monroe', 'James Lapine', 'Jérôme Salle',\n",
       "       'Micheal Bafaro', 'John Luessenhop', 'Wes Craven', 'Mira Nair',\n",
       "       'Gilles Paquet-Brenner', 'Lisa Addario', 'Pedro Almodóvar',\n",
       "       'Patricia Riggen', 'Julie Taymor', 'Luke Greenfield', 'Boaz Yakin',\n",
       "       'Steven Quale', 'Shana Feste', 'Pascal Laugier', 'Ava DuVernay',\n",
       "       'Patrick Tatopoulos', 'Aamir Khan', 'Nima Nourizadeh', 'Billy Ray',\n",
       "       'Scot Armstrong'], dtype=object)"
      ]
     },
     "execution_count": 11,
     "metadata": {},
     "output_type": "execute_result"
    }
   ],
   "source": [
    "data[\"Director\"].unique()"
   ]
  },
  {
   "cell_type": "code",
   "execution_count": 12,
   "id": "9dd60298",
   "metadata": {},
   "outputs": [
    {
     "name": "stdout",
     "output_type": "stream",
     "text": [
      "Total Number of Movies Imdb rated for year 2006 to 2016 are 999\n"
     ]
    }
   ],
   "source": [
    "print(\"Total Number of Movies Imdb rated for year 2006 to 2016 are\",format(len(data[\"Title\"].unique())))\n"
   ]
  },
  {
   "cell_type": "code",
   "execution_count": 13,
   "id": "fa1b4d2a",
   "metadata": {},
   "outputs": [
    {
     "data": {
      "text/plain": [
       "Rank                  1000\n",
       "Title                  999\n",
       "Genre                  207\n",
       "Description           1000\n",
       "Director               644\n",
       "Actors                 996\n",
       "Year                    11\n",
       "Runtime (Minutes)       94\n",
       "Rating                  55\n",
       "Votes                  997\n",
       "Revenue (Millions)     814\n",
       "Metascore               84\n",
       "dtype: int64"
      ]
     },
     "execution_count": 13,
     "metadata": {},
     "output_type": "execute_result"
    }
   ],
   "source": [
    "data.nunique()"
   ]
  },
  {
   "cell_type": "code",
   "execution_count": 14,
   "id": "1c653c63",
   "metadata": {},
   "outputs": [
    {
     "data": {
      "text/html": [
       "<div>\n",
       "<style scoped>\n",
       "    .dataframe tbody tr th:only-of-type {\n",
       "        vertical-align: middle;\n",
       "    }\n",
       "\n",
       "    .dataframe tbody tr th {\n",
       "        vertical-align: top;\n",
       "    }\n",
       "\n",
       "    .dataframe thead th {\n",
       "        text-align: right;\n",
       "    }\n",
       "</style>\n",
       "<table border=\"1\" class=\"dataframe\">\n",
       "  <thead>\n",
       "    <tr style=\"text-align: right;\">\n",
       "      <th></th>\n",
       "      <th>Rank</th>\n",
       "      <th>Title</th>\n",
       "      <th>Genre</th>\n",
       "      <th>Description</th>\n",
       "      <th>Director</th>\n",
       "      <th>Actors</th>\n",
       "      <th>Year</th>\n",
       "      <th>Runtime (Minutes)</th>\n",
       "      <th>Rating</th>\n",
       "      <th>Votes</th>\n",
       "      <th>Revenue (Millions)</th>\n",
       "      <th>Metascore</th>\n",
       "    </tr>\n",
       "  </thead>\n",
       "  <tbody>\n",
       "    <tr>\n",
       "      <th>0</th>\n",
       "      <td>False</td>\n",
       "      <td>False</td>\n",
       "      <td>False</td>\n",
       "      <td>False</td>\n",
       "      <td>False</td>\n",
       "      <td>False</td>\n",
       "      <td>False</td>\n",
       "      <td>False</td>\n",
       "      <td>False</td>\n",
       "      <td>False</td>\n",
       "      <td>False</td>\n",
       "      <td>False</td>\n",
       "    </tr>\n",
       "    <tr>\n",
       "      <th>1</th>\n",
       "      <td>False</td>\n",
       "      <td>False</td>\n",
       "      <td>False</td>\n",
       "      <td>False</td>\n",
       "      <td>False</td>\n",
       "      <td>False</td>\n",
       "      <td>False</td>\n",
       "      <td>False</td>\n",
       "      <td>False</td>\n",
       "      <td>False</td>\n",
       "      <td>False</td>\n",
       "      <td>False</td>\n",
       "    </tr>\n",
       "    <tr>\n",
       "      <th>2</th>\n",
       "      <td>False</td>\n",
       "      <td>False</td>\n",
       "      <td>False</td>\n",
       "      <td>False</td>\n",
       "      <td>False</td>\n",
       "      <td>False</td>\n",
       "      <td>False</td>\n",
       "      <td>False</td>\n",
       "      <td>False</td>\n",
       "      <td>False</td>\n",
       "      <td>False</td>\n",
       "      <td>False</td>\n",
       "    </tr>\n",
       "    <tr>\n",
       "      <th>3</th>\n",
       "      <td>False</td>\n",
       "      <td>False</td>\n",
       "      <td>False</td>\n",
       "      <td>False</td>\n",
       "      <td>False</td>\n",
       "      <td>False</td>\n",
       "      <td>False</td>\n",
       "      <td>False</td>\n",
       "      <td>False</td>\n",
       "      <td>False</td>\n",
       "      <td>False</td>\n",
       "      <td>False</td>\n",
       "    </tr>\n",
       "    <tr>\n",
       "      <th>4</th>\n",
       "      <td>False</td>\n",
       "      <td>False</td>\n",
       "      <td>False</td>\n",
       "      <td>False</td>\n",
       "      <td>False</td>\n",
       "      <td>False</td>\n",
       "      <td>False</td>\n",
       "      <td>False</td>\n",
       "      <td>False</td>\n",
       "      <td>False</td>\n",
       "      <td>False</td>\n",
       "      <td>False</td>\n",
       "    </tr>\n",
       "    <tr>\n",
       "      <th>...</th>\n",
       "      <td>...</td>\n",
       "      <td>...</td>\n",
       "      <td>...</td>\n",
       "      <td>...</td>\n",
       "      <td>...</td>\n",
       "      <td>...</td>\n",
       "      <td>...</td>\n",
       "      <td>...</td>\n",
       "      <td>...</td>\n",
       "      <td>...</td>\n",
       "      <td>...</td>\n",
       "      <td>...</td>\n",
       "    </tr>\n",
       "    <tr>\n",
       "      <th>995</th>\n",
       "      <td>False</td>\n",
       "      <td>False</td>\n",
       "      <td>False</td>\n",
       "      <td>False</td>\n",
       "      <td>False</td>\n",
       "      <td>False</td>\n",
       "      <td>False</td>\n",
       "      <td>False</td>\n",
       "      <td>False</td>\n",
       "      <td>False</td>\n",
       "      <td>True</td>\n",
       "      <td>False</td>\n",
       "    </tr>\n",
       "    <tr>\n",
       "      <th>996</th>\n",
       "      <td>False</td>\n",
       "      <td>False</td>\n",
       "      <td>False</td>\n",
       "      <td>False</td>\n",
       "      <td>False</td>\n",
       "      <td>False</td>\n",
       "      <td>False</td>\n",
       "      <td>False</td>\n",
       "      <td>False</td>\n",
       "      <td>False</td>\n",
       "      <td>False</td>\n",
       "      <td>False</td>\n",
       "    </tr>\n",
       "    <tr>\n",
       "      <th>997</th>\n",
       "      <td>False</td>\n",
       "      <td>False</td>\n",
       "      <td>False</td>\n",
       "      <td>False</td>\n",
       "      <td>False</td>\n",
       "      <td>False</td>\n",
       "      <td>False</td>\n",
       "      <td>False</td>\n",
       "      <td>False</td>\n",
       "      <td>False</td>\n",
       "      <td>False</td>\n",
       "      <td>False</td>\n",
       "    </tr>\n",
       "    <tr>\n",
       "      <th>998</th>\n",
       "      <td>False</td>\n",
       "      <td>False</td>\n",
       "      <td>False</td>\n",
       "      <td>False</td>\n",
       "      <td>False</td>\n",
       "      <td>False</td>\n",
       "      <td>False</td>\n",
       "      <td>False</td>\n",
       "      <td>False</td>\n",
       "      <td>False</td>\n",
       "      <td>True</td>\n",
       "      <td>False</td>\n",
       "    </tr>\n",
       "    <tr>\n",
       "      <th>999</th>\n",
       "      <td>False</td>\n",
       "      <td>False</td>\n",
       "      <td>False</td>\n",
       "      <td>False</td>\n",
       "      <td>False</td>\n",
       "      <td>False</td>\n",
       "      <td>False</td>\n",
       "      <td>False</td>\n",
       "      <td>False</td>\n",
       "      <td>False</td>\n",
       "      <td>False</td>\n",
       "      <td>False</td>\n",
       "    </tr>\n",
       "  </tbody>\n",
       "</table>\n",
       "<p>1000 rows × 12 columns</p>\n",
       "</div>"
      ],
      "text/plain": [
       "      Rank  Title  Genre  Description  Director  Actors   Year  \\\n",
       "0    False  False  False        False     False   False  False   \n",
       "1    False  False  False        False     False   False  False   \n",
       "2    False  False  False        False     False   False  False   \n",
       "3    False  False  False        False     False   False  False   \n",
       "4    False  False  False        False     False   False  False   \n",
       "..     ...    ...    ...          ...       ...     ...    ...   \n",
       "995  False  False  False        False     False   False  False   \n",
       "996  False  False  False        False     False   False  False   \n",
       "997  False  False  False        False     False   False  False   \n",
       "998  False  False  False        False     False   False  False   \n",
       "999  False  False  False        False     False   False  False   \n",
       "\n",
       "     Runtime (Minutes)  Rating  Votes  Revenue (Millions)  Metascore  \n",
       "0                False   False  False               False      False  \n",
       "1                False   False  False               False      False  \n",
       "2                False   False  False               False      False  \n",
       "3                False   False  False               False      False  \n",
       "4                False   False  False               False      False  \n",
       "..                 ...     ...    ...                 ...        ...  \n",
       "995              False   False  False                True      False  \n",
       "996              False   False  False               False      False  \n",
       "997              False   False  False               False      False  \n",
       "998              False   False  False                True      False  \n",
       "999              False   False  False               False      False  \n",
       "\n",
       "[1000 rows x 12 columns]"
      ]
     },
     "execution_count": 14,
     "metadata": {},
     "output_type": "execute_result"
    }
   ],
   "source": [
    "data.isnull()"
   ]
  },
  {
   "cell_type": "code",
   "execution_count": 15,
   "id": "4963c265",
   "metadata": {},
   "outputs": [
    {
     "data": {
      "text/plain": [
       "Rank                    0\n",
       "Title                   0\n",
       "Genre                   0\n",
       "Description             0\n",
       "Director                0\n",
       "Actors                  0\n",
       "Year                    0\n",
       "Runtime (Minutes)       0\n",
       "Rating                  0\n",
       "Votes                   0\n",
       "Revenue (Millions)    128\n",
       "Metascore              64\n",
       "dtype: int64"
      ]
     },
     "execution_count": 15,
     "metadata": {},
     "output_type": "execute_result"
    }
   ],
   "source": [
    "data.isnull().sum()"
   ]
  },
  {
   "cell_type": "markdown",
   "id": "59a4992d",
   "metadata": {},
   "source": [
    "## Performing and Data Cleaning\n"
   ]
  },
  {
   "cell_type": "markdown",
   "id": "a2a7f3a2",
   "metadata": {},
   "source": [
    "Cleaning and Filtering the unwanted Columns:"
   ]
  },
  {
   "cell_type": "code",
   "execution_count": 16,
   "id": "b33490f3",
   "metadata": {},
   "outputs": [],
   "source": [
    "col=[\"Rank\",\"Description\",\"Director\",\"Actors\",\"Runtime (Minutes)\"]\n",
    "Fdata=data.drop(col,axis=1)"
   ]
  },
  {
   "cell_type": "code",
   "execution_count": 17,
   "id": "40563855",
   "metadata": {
    "scrolled": true
   },
   "outputs": [
    {
     "data": {
      "text/html": [
       "<div>\n",
       "<style scoped>\n",
       "    .dataframe tbody tr th:only-of-type {\n",
       "        vertical-align: middle;\n",
       "    }\n",
       "\n",
       "    .dataframe tbody tr th {\n",
       "        vertical-align: top;\n",
       "    }\n",
       "\n",
       "    .dataframe thead th {\n",
       "        text-align: right;\n",
       "    }\n",
       "</style>\n",
       "<table border=\"1\" class=\"dataframe\">\n",
       "  <thead>\n",
       "    <tr style=\"text-align: right;\">\n",
       "      <th></th>\n",
       "      <th>Title</th>\n",
       "      <th>Genre</th>\n",
       "      <th>Year</th>\n",
       "      <th>Rating</th>\n",
       "      <th>Votes</th>\n",
       "      <th>Revenue (Millions)</th>\n",
       "      <th>Metascore</th>\n",
       "    </tr>\n",
       "  </thead>\n",
       "  <tbody>\n",
       "    <tr>\n",
       "      <th>0</th>\n",
       "      <td>Guardians of the Galaxy</td>\n",
       "      <td>Action,Adventure,Sci-Fi</td>\n",
       "      <td>2014</td>\n",
       "      <td>8.1</td>\n",
       "      <td>757074</td>\n",
       "      <td>333.13</td>\n",
       "      <td>76.0</td>\n",
       "    </tr>\n",
       "    <tr>\n",
       "      <th>1</th>\n",
       "      <td>Prometheus</td>\n",
       "      <td>Adventure,Mystery,Sci-Fi</td>\n",
       "      <td>2012</td>\n",
       "      <td>7.0</td>\n",
       "      <td>485820</td>\n",
       "      <td>126.46</td>\n",
       "      <td>65.0</td>\n",
       "    </tr>\n",
       "    <tr>\n",
       "      <th>2</th>\n",
       "      <td>Split</td>\n",
       "      <td>Horror,Thriller</td>\n",
       "      <td>2016</td>\n",
       "      <td>7.3</td>\n",
       "      <td>157606</td>\n",
       "      <td>138.12</td>\n",
       "      <td>62.0</td>\n",
       "    </tr>\n",
       "  </tbody>\n",
       "</table>\n",
       "</div>"
      ],
      "text/plain": [
       "                     Title                     Genre  Year  Rating   Votes  \\\n",
       "0  Guardians of the Galaxy   Action,Adventure,Sci-Fi  2014     8.1  757074   \n",
       "1               Prometheus  Adventure,Mystery,Sci-Fi  2012     7.0  485820   \n",
       "2                    Split           Horror,Thriller  2016     7.3  157606   \n",
       "\n",
       "   Revenue (Millions)  Metascore  \n",
       "0              333.13       76.0  \n",
       "1              126.46       65.0  \n",
       "2              138.12       62.0  "
      ]
     },
     "execution_count": 17,
     "metadata": {},
     "output_type": "execute_result"
    }
   ],
   "source": [
    "Fdata.head(3)"
   ]
  },
  {
   "cell_type": "markdown",
   "id": "465c5ebe",
   "metadata": {},
   "source": [
    "### Sorting Films by Rating"
   ]
  },
  {
   "cell_type": "code",
   "execution_count": 18,
   "id": "665c17ae",
   "metadata": {
    "scrolled": true
   },
   "outputs": [],
   "source": [
    "SortedData=Fdata.sort_values(by=[\"Rating\"],ascending=False)\n",
    "\n",
    "    "
   ]
  },
  {
   "cell_type": "code",
   "execution_count": 19,
   "id": "c8d0f7b6",
   "metadata": {},
   "outputs": [
    {
     "data": {
      "text/html": [
       "<div>\n",
       "<style scoped>\n",
       "    .dataframe tbody tr th:only-of-type {\n",
       "        vertical-align: middle;\n",
       "    }\n",
       "\n",
       "    .dataframe tbody tr th {\n",
       "        vertical-align: top;\n",
       "    }\n",
       "\n",
       "    .dataframe thead th {\n",
       "        text-align: right;\n",
       "    }\n",
       "</style>\n",
       "<table border=\"1\" class=\"dataframe\">\n",
       "  <thead>\n",
       "    <tr style=\"text-align: right;\">\n",
       "      <th></th>\n",
       "      <th>Title</th>\n",
       "      <th>Genre</th>\n",
       "      <th>Year</th>\n",
       "      <th>Rating</th>\n",
       "      <th>Votes</th>\n",
       "      <th>Revenue (Millions)</th>\n",
       "      <th>Metascore</th>\n",
       "    </tr>\n",
       "  </thead>\n",
       "  <tbody>\n",
       "    <tr>\n",
       "      <th>54</th>\n",
       "      <td>The Dark Knight</td>\n",
       "      <td>Action,Crime,Drama</td>\n",
       "      <td>2008</td>\n",
       "      <td>9.0</td>\n",
       "      <td>1791916</td>\n",
       "      <td>533.32</td>\n",
       "      <td>82.0</td>\n",
       "    </tr>\n",
       "    <tr>\n",
       "      <th>80</th>\n",
       "      <td>Inception</td>\n",
       "      <td>Action,Adventure,Sci-Fi</td>\n",
       "      <td>2010</td>\n",
       "      <td>8.8</td>\n",
       "      <td>1583625</td>\n",
       "      <td>292.57</td>\n",
       "      <td>74.0</td>\n",
       "    </tr>\n",
       "    <tr>\n",
       "      <th>117</th>\n",
       "      <td>Dangal</td>\n",
       "      <td>Action,Biography,Drama</td>\n",
       "      <td>2016</td>\n",
       "      <td>8.8</td>\n",
       "      <td>48969</td>\n",
       "      <td>11.15</td>\n",
       "      <td>NaN</td>\n",
       "    </tr>\n",
       "  </tbody>\n",
       "</table>\n",
       "</div>"
      ],
      "text/plain": [
       "               Title                    Genre  Year  Rating    Votes  \\\n",
       "54   The Dark Knight       Action,Crime,Drama  2008     9.0  1791916   \n",
       "80         Inception  Action,Adventure,Sci-Fi  2010     8.8  1583625   \n",
       "117           Dangal   Action,Biography,Drama  2016     8.8    48969   \n",
       "\n",
       "     Revenue (Millions)  Metascore  \n",
       "54               533.32       82.0  \n",
       "80               292.57       74.0  \n",
       "117               11.15        NaN  "
      ]
     },
     "execution_count": 19,
     "metadata": {},
     "output_type": "execute_result"
    }
   ],
   "source": [
    "SortedData.head(3)"
   ]
  },
  {
   "cell_type": "markdown",
   "id": "b63eb2a9",
   "metadata": {},
   "source": [
    "# EDA(Exploratory Data Analysis)"
   ]
  },
  {
   "cell_type": "markdown",
   "id": "3bce43ea",
   "metadata": {},
   "source": [
    "Top 20 Films as per IMDB Ratings:"
   ]
  },
  {
   "cell_type": "code",
   "execution_count": 20,
   "id": "61508599",
   "metadata": {},
   "outputs": [],
   "source": [
    "DFiltered=Fdata[Fdata[\"Rating\"]>=5]"
   ]
  },
  {
   "cell_type": "code",
   "execution_count": 21,
   "id": "69548614",
   "metadata": {},
   "outputs": [],
   "source": [
    "Count=len(DFiltered)"
   ]
  },
  {
   "cell_type": "code",
   "execution_count": 22,
   "id": "6270904e",
   "metadata": {},
   "outputs": [
    {
     "data": {
      "text/plain": [
       "957"
      ]
     },
     "execution_count": 22,
     "metadata": {},
     "output_type": "execute_result"
    }
   ],
   "source": [
    "Count"
   ]
  },
  {
   "cell_type": "code",
   "execution_count": 23,
   "id": "27af033c",
   "metadata": {},
   "outputs": [
    {
     "name": "stdout",
     "output_type": "stream",
     "text": [
      "Total Films with imdb ratings are above 5 are 957 \n",
      "\n"
     ]
    }
   ],
   "source": [
    "print(f\"Total Films with imdb ratings are above 5 are {Count} \\n\")"
   ]
  },
  {
   "cell_type": "markdown",
   "id": "218ab2ee",
   "metadata": {},
   "source": [
    "Its impossible to Observe more than 900 categories in single plot\n",
    "Hence need to reduce the Data to Top 30 "
   ]
  },
  {
   "cell_type": "markdown",
   "id": "be4a3036",
   "metadata": {},
   "source": [
    "\n",
    "Making Normalised Ratings based upon votes and Ratings\n",
    "\n",
    "New Ratings= votes x ratings\n"
   ]
  },
  {
   "cell_type": "code",
   "execution_count": 24,
   "id": "babcf9fd",
   "metadata": {},
   "outputs": [],
   "source": [
    "SortedData[\"normalised_Rating\"]=SortedData[\"Rating\"].multiply(SortedData[\"Votes\"],axis=\"index\")\n",
    "SortedData[\"normalised_Rating\"]=(SortedData[\"normalised_Rating\"])/1000"
   ]
  },
  {
   "cell_type": "code",
   "execution_count": 25,
   "id": "b4ed493d",
   "metadata": {},
   "outputs": [],
   "source": [
    "SortedData=SortedData.sort_values(by=[\"normalised_Rating\"],ascending=False)\n",
    "AData=SortedData[SortedData[\"normalised_Rating\"]>=max(SortedData[\"normalised_Rating\"])*(0.30)]"
   ]
  },
  {
   "cell_type": "code",
   "execution_count": 26,
   "id": "3fb1526c",
   "metadata": {},
   "outputs": [
    {
     "data": {
      "image/png": "[encoded data removed]",
      "text/plain": [
       "<Figure size 640x480 with 1 Axes>"
      ]
     },
     "metadata": {},
     "output_type": "display_data"
    }
   ],
   "source": [
    "AData.plot(kind=\"bar\",x=\"Title\",y=\"normalised_Rating\")\n",
    "plt.ylabel(\"Average Votes\")\n",
    "plt.xlabel(\"Title\")\n",
    "plt.title(\"Top 30 Most Rated Movies\")\n",
    "plt.show()\n"
   ]
  },
  {
   "cell_type": "markdown",
   "id": "a85ee789",
   "metadata": {},
   "source": [
    "From Plot:\n",
    "Top 5 Movies are:\n",
    "1. The Dark knight\n",
    "2. Inception\n",
    "3. The Dark Knight Rises\n",
    "4. Intersteller\n",
    "5. Django Unchained"
   ]
  },
  {
   "cell_type": "markdown",
   "id": "e6614bce",
   "metadata": {},
   "source": [
    "Top 10 Movies"
   ]
  },
  {
   "cell_type": "markdown",
   "id": "67c2411b",
   "metadata": {},
   "source": [
    "#### As per ratings"
   ]
  },
  {
   "cell_type": "code",
   "execution_count": 27,
   "id": "00d96ab0",
   "metadata": {},
   "outputs": [],
   "source": [
    "SortedData=Fdata.sort_values(by=[\"Rating\"],ascending=False)\n",
    "AData=SortedData[SortedData[\"Rating\"]>=max(SortedData[\"Rating\"])*(0.94)]"
   ]
  },
  {
   "cell_type": "code",
   "execution_count": 28,
   "id": "5373f601",
   "metadata": {},
   "outputs": [
    {
     "data": {
      "image/png": "[encoded data removed]",
      "text/plain": [
       "<Figure size 640x480 with 1 Axes>"
      ]
     },
     "metadata": {},
     "output_type": "display_data"
    }
   ],
   "source": [
    "AData.plot(kind=\"bar\",x=\"Title\",y=\"Rating\")\n",
    "plt.ylabel(\"Rating\")\n",
    "plt.xlabel(\"Title\")\n",
    "plt.title(\"Top 10 Most Rated Movies\")\n",
    "plt.show()"
   ]
  },
  {
   "cell_type": "markdown",
   "id": "19f508b8",
   "metadata": {},
   "source": [
    "As Per IMDB Ratings :\n",
    "Top 10 Movies are:\n",
    "1. The Dark Knight \n",
    "2. Inception\n",
    "3. Dangal\n",
    "4. Intersteller\n",
    "5. Kimi no na wa\n",
    "6. The Intouchable\n",
    "7. Whiplash\n",
    "8. The Prestige\n",
    "9. The Departed\n",
    "10. Taare Zameen Par\n"
   ]
  },
  {
   "cell_type": "markdown",
   "id": "9c06d63f",
   "metadata": {},
   "source": [
    "#### As Per Votes"
   ]
  },
  {
   "cell_type": "code",
   "execution_count": 29,
   "id": "9378856f",
   "metadata": {},
   "outputs": [],
   "source": [
    "SortedData=Fdata.sort_values(by=[\"Votes\"],ascending=False)\n"
   ]
  },
  {
   "cell_type": "code",
   "execution_count": 30,
   "id": "211ddf35",
   "metadata": {},
   "outputs": [
    {
     "data": {
      "text/html": [
       "<div>\n",
       "<style scoped>\n",
       "    .dataframe tbody tr th:only-of-type {\n",
       "        vertical-align: middle;\n",
       "    }\n",
       "\n",
       "    .dataframe tbody tr th {\n",
       "        vertical-align: top;\n",
       "    }\n",
       "\n",
       "    .dataframe thead th {\n",
       "        text-align: right;\n",
       "    }\n",
       "</style>\n",
       "<table border=\"1\" class=\"dataframe\">\n",
       "  <thead>\n",
       "    <tr style=\"text-align: right;\">\n",
       "      <th></th>\n",
       "      <th>Title</th>\n",
       "      <th>Genre</th>\n",
       "      <th>Year</th>\n",
       "      <th>Rating</th>\n",
       "      <th>Votes</th>\n",
       "      <th>Revenue (Millions)</th>\n",
       "      <th>Metascore</th>\n",
       "    </tr>\n",
       "  </thead>\n",
       "  <tbody>\n",
       "    <tr>\n",
       "      <th>54</th>\n",
       "      <td>The Dark Knight</td>\n",
       "      <td>Action,Crime,Drama</td>\n",
       "      <td>2008</td>\n",
       "      <td>9.0</td>\n",
       "      <td>1791916</td>\n",
       "      <td>533.32</td>\n",
       "      <td>82.0</td>\n",
       "    </tr>\n",
       "    <tr>\n",
       "      <th>80</th>\n",
       "      <td>Inception</td>\n",
       "      <td>Action,Adventure,Sci-Fi</td>\n",
       "      <td>2010</td>\n",
       "      <td>8.8</td>\n",
       "      <td>1583625</td>\n",
       "      <td>292.57</td>\n",
       "      <td>74.0</td>\n",
       "    </tr>\n",
       "    <tr>\n",
       "      <th>124</th>\n",
       "      <td>The Dark Knight Rises</td>\n",
       "      <td>Action,Thriller</td>\n",
       "      <td>2012</td>\n",
       "      <td>8.5</td>\n",
       "      <td>1222645</td>\n",
       "      <td>448.13</td>\n",
       "      <td>78.0</td>\n",
       "    </tr>\n",
       "    <tr>\n",
       "      <th>36</th>\n",
       "      <td>Interstellar</td>\n",
       "      <td>Adventure,Drama,Sci-Fi</td>\n",
       "      <td>2014</td>\n",
       "      <td>8.6</td>\n",
       "      <td>1047747</td>\n",
       "      <td>187.99</td>\n",
       "      <td>74.0</td>\n",
       "    </tr>\n",
       "    <tr>\n",
       "      <th>76</th>\n",
       "      <td>The Avengers</td>\n",
       "      <td>Action,Sci-Fi</td>\n",
       "      <td>2012</td>\n",
       "      <td>8.1</td>\n",
       "      <td>1045588</td>\n",
       "      <td>623.28</td>\n",
       "      <td>69.0</td>\n",
       "    </tr>\n",
       "    <tr>\n",
       "      <th>144</th>\n",
       "      <td>Django Unchained</td>\n",
       "      <td>Drama,Western</td>\n",
       "      <td>2012</td>\n",
       "      <td>8.4</td>\n",
       "      <td>1039115</td>\n",
       "      <td>162.80</td>\n",
       "      <td>81.0</td>\n",
       "    </tr>\n",
       "    <tr>\n",
       "      <th>77</th>\n",
       "      <td>Inglourious Basterds</td>\n",
       "      <td>Adventure,Drama,War</td>\n",
       "      <td>2009</td>\n",
       "      <td>8.3</td>\n",
       "      <td>959065</td>\n",
       "      <td>120.52</td>\n",
       "      <td>69.0</td>\n",
       "    </tr>\n",
       "    <tr>\n",
       "      <th>99</th>\n",
       "      <td>The Departed</td>\n",
       "      <td>Crime,Drama,Thriller</td>\n",
       "      <td>2006</td>\n",
       "      <td>8.5</td>\n",
       "      <td>937414</td>\n",
       "      <td>132.37</td>\n",
       "      <td>85.0</td>\n",
       "    </tr>\n",
       "    <tr>\n",
       "      <th>87</th>\n",
       "      <td>Avatar</td>\n",
       "      <td>Action,Adventure,Fantasy</td>\n",
       "      <td>2009</td>\n",
       "      <td>7.8</td>\n",
       "      <td>935408</td>\n",
       "      <td>760.51</td>\n",
       "      <td>83.0</td>\n",
       "    </tr>\n",
       "    <tr>\n",
       "      <th>64</th>\n",
       "      <td>The Prestige</td>\n",
       "      <td>Drama,Mystery,Sci-Fi</td>\n",
       "      <td>2006</td>\n",
       "      <td>8.5</td>\n",
       "      <td>913152</td>\n",
       "      <td>53.08</td>\n",
       "      <td>66.0</td>\n",
       "    </tr>\n",
       "  </tbody>\n",
       "</table>\n",
       "</div>"
      ],
      "text/plain": [
       "                     Title                     Genre  Year  Rating    Votes  \\\n",
       "54         The Dark Knight        Action,Crime,Drama  2008     9.0  1791916   \n",
       "80               Inception   Action,Adventure,Sci-Fi  2010     8.8  1583625   \n",
       "124  The Dark Knight Rises           Action,Thriller  2012     8.5  1222645   \n",
       "36            Interstellar    Adventure,Drama,Sci-Fi  2014     8.6  1047747   \n",
       "76            The Avengers             Action,Sci-Fi  2012     8.1  1045588   \n",
       "144       Django Unchained             Drama,Western  2012     8.4  1039115   \n",
       "77    Inglourious Basterds       Adventure,Drama,War  2009     8.3   959065   \n",
       "99            The Departed      Crime,Drama,Thriller  2006     8.5   937414   \n",
       "87                  Avatar  Action,Adventure,Fantasy  2009     7.8   935408   \n",
       "64            The Prestige      Drama,Mystery,Sci-Fi  2006     8.5   913152   \n",
       "\n",
       "     Revenue (Millions)  Metascore  \n",
       "54               533.32       82.0  \n",
       "80               292.57       74.0  \n",
       "124              448.13       78.0  \n",
       "36               187.99       74.0  \n",
       "76               623.28       69.0  \n",
       "144              162.80       81.0  \n",
       "77               120.52       69.0  \n",
       "99               132.37       85.0  \n",
       "87               760.51       83.0  \n",
       "64                53.08       66.0  "
      ]
     },
     "execution_count": 30,
     "metadata": {},
     "output_type": "execute_result"
    }
   ],
   "source": [
    "SortedData.head(10)"
   ]
  },
  {
   "cell_type": "code",
   "execution_count": 31,
   "id": "e9976d12",
   "metadata": {},
   "outputs": [],
   "source": [
    "AData=SortedData[SortedData[\"Votes\"]>=max(SortedData[\"Votes\"])*(0.50)]"
   ]
  },
  {
   "cell_type": "code",
   "execution_count": 32,
   "id": "47e4e67e",
   "metadata": {},
   "outputs": [
    {
     "data": {
      "image/png": "[encoded data removed]",
      "text/plain": [
       "<Figure size 2000x500 with 1 Axes>"
      ]
     },
     "metadata": {},
     "output_type": "display_data"
    }
   ],
   "source": [
    "sns.set(rc={'figure.figsize':(20,5)})\n",
    "ax=sns.barplot(data=AData,x=\"Title\",y=\"Votes\")\n",
    "\n",
    "for bar in ax.containers:\n",
    "    ax.bar_label(bar)"
   ]
  },
  {
   "cell_type": "code",
   "execution_count": 33,
   "id": "4aeb9d0f",
   "metadata": {},
   "outputs": [
    {
     "data": {
      "text/html": [
       "<div>\n",
       "<style scoped>\n",
       "    .dataframe tbody tr th:only-of-type {\n",
       "        vertical-align: middle;\n",
       "    }\n",
       "\n",
       "    .dataframe tbody tr th {\n",
       "        vertical-align: top;\n",
       "    }\n",
       "\n",
       "    .dataframe thead th {\n",
       "        text-align: right;\n",
       "    }\n",
       "</style>\n",
       "<table border=\"1\" class=\"dataframe\">\n",
       "  <thead>\n",
       "    <tr style=\"text-align: right;\">\n",
       "      <th></th>\n",
       "      <th>Title</th>\n",
       "      <th>Genre</th>\n",
       "      <th>Year</th>\n",
       "      <th>Rating</th>\n",
       "      <th>Votes</th>\n",
       "      <th>Revenue (Millions)</th>\n",
       "      <th>Metascore</th>\n",
       "    </tr>\n",
       "  </thead>\n",
       "  <tbody>\n",
       "    <tr>\n",
       "      <th>54</th>\n",
       "      <td>The Dark Knight</td>\n",
       "      <td>Action,Crime,Drama</td>\n",
       "      <td>2008</td>\n",
       "      <td>9.0</td>\n",
       "      <td>1791916</td>\n",
       "      <td>533.32</td>\n",
       "      <td>82.0</td>\n",
       "    </tr>\n",
       "    <tr>\n",
       "      <th>80</th>\n",
       "      <td>Inception</td>\n",
       "      <td>Action,Adventure,Sci-Fi</td>\n",
       "      <td>2010</td>\n",
       "      <td>8.8</td>\n",
       "      <td>1583625</td>\n",
       "      <td>292.57</td>\n",
       "      <td>74.0</td>\n",
       "    </tr>\n",
       "    <tr>\n",
       "      <th>124</th>\n",
       "      <td>The Dark Knight Rises</td>\n",
       "      <td>Action,Thriller</td>\n",
       "      <td>2012</td>\n",
       "      <td>8.5</td>\n",
       "      <td>1222645</td>\n",
       "      <td>448.13</td>\n",
       "      <td>78.0</td>\n",
       "    </tr>\n",
       "  </tbody>\n",
       "</table>\n",
       "</div>"
      ],
      "text/plain": [
       "                     Title                    Genre  Year  Rating    Votes  \\\n",
       "54         The Dark Knight       Action,Crime,Drama  2008     9.0  1791916   \n",
       "80               Inception  Action,Adventure,Sci-Fi  2010     8.8  1583625   \n",
       "124  The Dark Knight Rises          Action,Thriller  2012     8.5  1222645   \n",
       "\n",
       "     Revenue (Millions)  Metascore  \n",
       "54               533.32       82.0  \n",
       "80               292.57       74.0  \n",
       "124              448.13       78.0  "
      ]
     },
     "execution_count": 33,
     "metadata": {},
     "output_type": "execute_result"
    }
   ],
   "source": [
    "Fdata.nlargest(3,\"Votes\")"
   ]
  },
  {
   "cell_type": "markdown",
   "id": "300f5768",
   "metadata": {},
   "source": [
    "As Per Votings:\n",
    "Top 10 Most Voted movies :\n",
    "1. The Dark Knight\n",
    "2. Inception\n",
    "3. The Dark Night Rises\n",
    "4. Intersteller\n",
    "5. The Avenger\n",
    "6. Django Unchained\n",
    "7. Inglourious Basterds\n",
    "8. The Departed\n",
    "9. Avatar\n",
    "10. The Prestige\n"
   ]
  },
  {
   "cell_type": "markdown",
   "id": "aa284a0c",
   "metadata": {},
   "source": [
    "### As per metascore"
   ]
  },
  {
   "cell_type": "code",
   "execution_count": 34,
   "id": "1a53ba3b",
   "metadata": {},
   "outputs": [],
   "source": [
    "SortedData=Fdata.sort_values(by=[\"Metascore\"],ascending=False)"
   ]
  },
  {
   "cell_type": "code",
   "execution_count": 35,
   "id": "edc21de6",
   "metadata": {},
   "outputs": [],
   "source": [
    "AData=SortedData[SortedData[\"Metascore\"]>=max(SortedData[\"Metascore\"])*(0.92)]"
   ]
  },
  {
   "cell_type": "code",
   "execution_count": 36,
   "id": "cda86cd1",
   "metadata": {
    "scrolled": true
   },
   "outputs": [
    {
     "data": {
      "image/png": "[encoded data removed]",
      "text/plain": [
       "<Figure size 3000x500 with 1 Axes>"
      ]
     },
     "metadata": {},
     "output_type": "display_data"
    }
   ],
   "source": [
    "sns.set(rc={'figure.figsize':(30,5)})\n",
    "ax=sns.barplot(data=AData,x=\"Title\",y=\"Metascore\")\n",
    "\n",
    "for bar in ax.containers:\n",
    "    ax.bar_label(bar)"
   ]
  },
  {
   "cell_type": "markdown",
   "id": "7962861b",
   "metadata": {},
   "source": [
    "## Yearly Top 2 Films"
   ]
  },
  {
   "cell_type": "code",
   "execution_count": 37,
   "id": "dad95f9c",
   "metadata": {},
   "outputs": [],
   "source": [
    "\n",
    "SortedData=Fdata.sort_values(by=[\"Rating\"],ascending=False)\n",
    "YearlyData=SortedData.groupby(\"Year\").head(2)\n",
    "YearlyData=YearlyData.sort_values(by=[\"Year\"],ascending=True)"
   ]
  },
  {
   "cell_type": "code",
   "execution_count": 38,
   "id": "acbcf7e8",
   "metadata": {},
   "outputs": [
    {
     "data": {
      "image/png": "[encoded data removed]",
      "text/plain": [
       "<Figure size 2500x1000 with 1 Axes>"
      ]
     },
     "metadata": {},
     "output_type": "display_data"
    }
   ],
   "source": [
    "\n",
    "sns.set(rc={'figure.figsize':(25,10)})\n",
    "ax=sns.barplot(data=YearlyData,x=\"Year\",y=\"Rating\",hue=\"Title\")\n",
    "for bar in ax.containers:\n",
    "    ax.bar_label(bar)"
   ]
  },
  {
   "cell_type": "code",
   "execution_count": 39,
   "id": "ed6fd13b",
   "metadata": {},
   "outputs": [
    {
     "data": {
      "text/html": [
       "<div>\n",
       "<style scoped>\n",
       "    .dataframe tbody tr th:only-of-type {\n",
       "        vertical-align: middle;\n",
       "    }\n",
       "\n",
       "    .dataframe tbody tr th {\n",
       "        vertical-align: top;\n",
       "    }\n",
       "\n",
       "    .dataframe thead th {\n",
       "        text-align: right;\n",
       "    }\n",
       "</style>\n",
       "<table border=\"1\" class=\"dataframe\">\n",
       "  <thead>\n",
       "    <tr style=\"text-align: right;\">\n",
       "      <th></th>\n",
       "      <th>Title</th>\n",
       "      <th>Genre</th>\n",
       "      <th>Year</th>\n",
       "      <th>Rating</th>\n",
       "      <th>Votes</th>\n",
       "      <th>Revenue (Millions)</th>\n",
       "      <th>Metascore</th>\n",
       "    </tr>\n",
       "  </thead>\n",
       "  <tbody>\n",
       "    <tr>\n",
       "      <th>64</th>\n",
       "      <td>The Prestige</td>\n",
       "      <td>Drama,Mystery,Sci-Fi</td>\n",
       "      <td>2006</td>\n",
       "      <td>8.5</td>\n",
       "      <td>913152</td>\n",
       "      <td>53.08</td>\n",
       "      <td>66.0</td>\n",
       "    </tr>\n",
       "    <tr>\n",
       "      <th>99</th>\n",
       "      <td>The Departed</td>\n",
       "      <td>Crime,Drama,Thriller</td>\n",
       "      <td>2006</td>\n",
       "      <td>8.5</td>\n",
       "      <td>937414</td>\n",
       "      <td>132.37</td>\n",
       "      <td>85.0</td>\n",
       "    </tr>\n",
       "    <tr>\n",
       "      <th>991</th>\n",
       "      <td>Taare Zameen Par</td>\n",
       "      <td>Drama,Family,Music</td>\n",
       "      <td>2007</td>\n",
       "      <td>8.5</td>\n",
       "      <td>102697</td>\n",
       "      <td>1.20</td>\n",
       "      <td>42.0</td>\n",
       "    </tr>\n",
       "    <tr>\n",
       "      <th>427</th>\n",
       "      <td>The Bourne Ultimatum</td>\n",
       "      <td>Action,Mystery,Thriller</td>\n",
       "      <td>2007</td>\n",
       "      <td>8.1</td>\n",
       "      <td>525700</td>\n",
       "      <td>227.14</td>\n",
       "      <td>85.0</td>\n",
       "    </tr>\n",
       "    <tr>\n",
       "      <th>54</th>\n",
       "      <td>The Dark Knight</td>\n",
       "      <td>Action,Crime,Drama</td>\n",
       "      <td>2008</td>\n",
       "      <td>9.0</td>\n",
       "      <td>1791916</td>\n",
       "      <td>533.32</td>\n",
       "      <td>82.0</td>\n",
       "    </tr>\n",
       "    <tr>\n",
       "      <th>634</th>\n",
       "      <td>WALL·E</td>\n",
       "      <td>Animation,Adventure,Family</td>\n",
       "      <td>2008</td>\n",
       "      <td>8.4</td>\n",
       "      <td>776897</td>\n",
       "      <td>223.81</td>\n",
       "      <td>NaN</td>\n",
       "    </tr>\n",
       "    <tr>\n",
       "      <th>499</th>\n",
       "      <td>Up</td>\n",
       "      <td>Animation,Adventure,Comedy</td>\n",
       "      <td>2009</td>\n",
       "      <td>8.3</td>\n",
       "      <td>722203</td>\n",
       "      <td>292.98</td>\n",
       "      <td>88.0</td>\n",
       "    </tr>\n",
       "    <tr>\n",
       "      <th>430</th>\n",
       "      <td>3 Idiots</td>\n",
       "      <td>Comedy,Drama</td>\n",
       "      <td>2009</td>\n",
       "      <td>8.4</td>\n",
       "      <td>238789</td>\n",
       "      <td>6.52</td>\n",
       "      <td>67.0</td>\n",
       "    </tr>\n",
       "    <tr>\n",
       "      <th>80</th>\n",
       "      <td>Inception</td>\n",
       "      <td>Action,Adventure,Sci-Fi</td>\n",
       "      <td>2010</td>\n",
       "      <td>8.8</td>\n",
       "      <td>1583625</td>\n",
       "      <td>292.57</td>\n",
       "      <td>74.0</td>\n",
       "    </tr>\n",
       "    <tr>\n",
       "      <th>688</th>\n",
       "      <td>Toy Story 3</td>\n",
       "      <td>Animation,Adventure,Comedy</td>\n",
       "      <td>2010</td>\n",
       "      <td>8.3</td>\n",
       "      <td>586669</td>\n",
       "      <td>414.98</td>\n",
       "      <td>92.0</td>\n",
       "    </tr>\n",
       "    <tr>\n",
       "      <th>194</th>\n",
       "      <td>Warrior</td>\n",
       "      <td>Action,Drama,Sport</td>\n",
       "      <td>2011</td>\n",
       "      <td>8.2</td>\n",
       "      <td>355722</td>\n",
       "      <td>13.65</td>\n",
       "      <td>71.0</td>\n",
       "    </tr>\n",
       "    <tr>\n",
       "      <th>249</th>\n",
       "      <td>The Intouchables</td>\n",
       "      <td>Biography,Comedy,Drama</td>\n",
       "      <td>2011</td>\n",
       "      <td>8.6</td>\n",
       "      <td>557965</td>\n",
       "      <td>13.18</td>\n",
       "      <td>57.0</td>\n",
       "    </tr>\n",
       "    <tr>\n",
       "      <th>144</th>\n",
       "      <td>Django Unchained</td>\n",
       "      <td>Drama,Western</td>\n",
       "      <td>2012</td>\n",
       "      <td>8.4</td>\n",
       "      <td>1039115</td>\n",
       "      <td>162.80</td>\n",
       "      <td>81.0</td>\n",
       "    </tr>\n",
       "    <tr>\n",
       "      <th>124</th>\n",
       "      <td>The Dark Knight Rises</td>\n",
       "      <td>Action,Thriller</td>\n",
       "      <td>2012</td>\n",
       "      <td>8.5</td>\n",
       "      <td>1222645</td>\n",
       "      <td>448.13</td>\n",
       "      <td>78.0</td>\n",
       "    </tr>\n",
       "    <tr>\n",
       "      <th>82</th>\n",
       "      <td>The Wolf of Wall Street</td>\n",
       "      <td>Biography,Comedy,Crime</td>\n",
       "      <td>2013</td>\n",
       "      <td>8.2</td>\n",
       "      <td>865134</td>\n",
       "      <td>116.87</td>\n",
       "      <td>75.0</td>\n",
       "    </tr>\n",
       "    <tr>\n",
       "      <th>90</th>\n",
       "      <td>Prisoners</td>\n",
       "      <td>Crime,Drama,Mystery</td>\n",
       "      <td>2013</td>\n",
       "      <td>8.1</td>\n",
       "      <td>431185</td>\n",
       "      <td>60.96</td>\n",
       "      <td>74.0</td>\n",
       "    </tr>\n",
       "    <tr>\n",
       "      <th>36</th>\n",
       "      <td>Interstellar</td>\n",
       "      <td>Adventure,Drama,Sci-Fi</td>\n",
       "      <td>2014</td>\n",
       "      <td>8.6</td>\n",
       "      <td>1047747</td>\n",
       "      <td>187.99</td>\n",
       "      <td>74.0</td>\n",
       "    </tr>\n",
       "    <tr>\n",
       "      <th>133</th>\n",
       "      <td>Whiplash</td>\n",
       "      <td>Drama,Music</td>\n",
       "      <td>2014</td>\n",
       "      <td>8.5</td>\n",
       "      <td>477276</td>\n",
       "      <td>13.09</td>\n",
       "      <td>88.0</td>\n",
       "    </tr>\n",
       "    <tr>\n",
       "      <th>26</th>\n",
       "      <td>Bahubali: The Beginning</td>\n",
       "      <td>Action,Adventure,Drama</td>\n",
       "      <td>2015</td>\n",
       "      <td>8.3</td>\n",
       "      <td>76193</td>\n",
       "      <td>6.50</td>\n",
       "      <td>NaN</td>\n",
       "    </tr>\n",
       "    <tr>\n",
       "      <th>241</th>\n",
       "      <td>Inside Out</td>\n",
       "      <td>Animation,Adventure,Comedy</td>\n",
       "      <td>2015</td>\n",
       "      <td>8.2</td>\n",
       "      <td>416689</td>\n",
       "      <td>356.45</td>\n",
       "      <td>94.0</td>\n",
       "    </tr>\n",
       "    <tr>\n",
       "      <th>96</th>\n",
       "      <td>Kimi no na wa</td>\n",
       "      <td>Animation,Drama,Fantasy</td>\n",
       "      <td>2016</td>\n",
       "      <td>8.6</td>\n",
       "      <td>34110</td>\n",
       "      <td>4.68</td>\n",
       "      <td>79.0</td>\n",
       "    </tr>\n",
       "    <tr>\n",
       "      <th>117</th>\n",
       "      <td>Dangal</td>\n",
       "      <td>Action,Biography,Drama</td>\n",
       "      <td>2016</td>\n",
       "      <td>8.8</td>\n",
       "      <td>48969</td>\n",
       "      <td>11.15</td>\n",
       "      <td>NaN</td>\n",
       "    </tr>\n",
       "  </tbody>\n",
       "</table>\n",
       "</div>"
      ],
      "text/plain": [
       "                       Title                       Genre  Year  Rating  \\\n",
       "64              The Prestige        Drama,Mystery,Sci-Fi  2006     8.5   \n",
       "99              The Departed        Crime,Drama,Thriller  2006     8.5   \n",
       "991         Taare Zameen Par          Drama,Family,Music  2007     8.5   \n",
       "427     The Bourne Ultimatum     Action,Mystery,Thriller  2007     8.1   \n",
       "54           The Dark Knight          Action,Crime,Drama  2008     9.0   \n",
       "634                   WALL·E  Animation,Adventure,Family  2008     8.4   \n",
       "499                       Up  Animation,Adventure,Comedy  2009     8.3   \n",
       "430                 3 Idiots                Comedy,Drama  2009     8.4   \n",
       "80                 Inception     Action,Adventure,Sci-Fi  2010     8.8   \n",
       "688              Toy Story 3  Animation,Adventure,Comedy  2010     8.3   \n",
       "194                  Warrior          Action,Drama,Sport  2011     8.2   \n",
       "249         The Intouchables      Biography,Comedy,Drama  2011     8.6   \n",
       "144         Django Unchained               Drama,Western  2012     8.4   \n",
       "124    The Dark Knight Rises             Action,Thriller  2012     8.5   \n",
       "82   The Wolf of Wall Street      Biography,Comedy,Crime  2013     8.2   \n",
       "90                 Prisoners         Crime,Drama,Mystery  2013     8.1   \n",
       "36              Interstellar      Adventure,Drama,Sci-Fi  2014     8.6   \n",
       "133                 Whiplash                 Drama,Music  2014     8.5   \n",
       "26   Bahubali: The Beginning      Action,Adventure,Drama  2015     8.3   \n",
       "241               Inside Out  Animation,Adventure,Comedy  2015     8.2   \n",
       "96             Kimi no na wa     Animation,Drama,Fantasy  2016     8.6   \n",
       "117                   Dangal      Action,Biography,Drama  2016     8.8   \n",
       "\n",
       "       Votes  Revenue (Millions)  Metascore  \n",
       "64    913152               53.08       66.0  \n",
       "99    937414              132.37       85.0  \n",
       "991   102697                1.20       42.0  \n",
       "427   525700              227.14       85.0  \n",
       "54   1791916              533.32       82.0  \n",
       "634   776897              223.81        NaN  \n",
       "499   722203              292.98       88.0  \n",
       "430   238789                6.52       67.0  \n",
       "80   1583625              292.57       74.0  \n",
       "688   586669              414.98       92.0  \n",
       "194   355722               13.65       71.0  \n",
       "249   557965               13.18       57.0  \n",
       "144  1039115              162.80       81.0  \n",
       "124  1222645              448.13       78.0  \n",
       "82    865134              116.87       75.0  \n",
       "90    431185               60.96       74.0  \n",
       "36   1047747              187.99       74.0  \n",
       "133   477276               13.09       88.0  \n",
       "26     76193                6.50        NaN  \n",
       "241   416689              356.45       94.0  \n",
       "96     34110                4.68       79.0  \n",
       "117    48969               11.15        NaN  "
      ]
     },
     "execution_count": 39,
     "metadata": {},
     "output_type": "execute_result"
    }
   ],
   "source": [
    "YearlyData"
   ]
  },
  {
   "cell_type": "markdown",
   "id": "a500f94f",
   "metadata": {},
   "source": [
    "##### Top Films with high Revenue"
   ]
  },
  {
   "cell_type": "code",
   "execution_count": 40,
   "id": "ade7e9f5",
   "metadata": {},
   "outputs": [],
   "source": [
    "SortedData=Fdata.sort_values(by=[\"Revenue (Millions)\"],ascending=False).head(10)"
   ]
  },
  {
   "cell_type": "code",
   "execution_count": 41,
   "id": "71956843",
   "metadata": {},
   "outputs": [
    {
     "data": {
      "image/png": "[encoded data removed]",
      "text/plain": [
       "<Figure size 3000x1000 with 1 Axes>"
      ]
     },
     "metadata": {},
     "output_type": "display_data"
    }
   ],
   "source": [
    "sns.set(rc={'figure.figsize':(30,10)})\n",
    "ax=sns.barplot(data=SortedData,x=\"Title\",y=\"Revenue (Millions)\")\n",
    "for bar in ax.containers:\n",
    "    ax.bar_label(bar)"
   ]
  },
  {
   "cell_type": "markdown",
   "id": "f1a478c6",
   "metadata": {},
   "source": [
    "    "
   ]
  },
  {
   "cell_type": "markdown",
   "id": "ae0f78fa",
   "metadata": {},
   "source": [
    "   "
   ]
  },
  {
   "cell_type": "markdown",
   "id": "1fd8cc13",
   "metadata": {},
   "source": [
    "# Conclusion\n"
   ]
  },
  {
   "cell_type": "markdown",
   "id": "00771186",
   "metadata": {},
   "source": [
    "\n",
    "#### 1. The Dark Knight Tops the list by getting highest ratings followed by Inception .\n",
    "#### 2.  Star Wars: Episode VII - The Force Awakens got the highest revenue of  936.63 millions as per 2006 to 2016 data.\n",
    "#### 3.  Boyhood got the highest metascore of 100 followed by moonlight."
   ]
  },
  {
   "cell_type": "markdown",
   "id": "48193deb",
   "metadata": {},
   "source": [
    "   "
   ]
  },
  {
   "cell_type": "markdown",
   "id": "b2c7c216",
   "metadata": {},
   "source": [
    "   "
   ]
  },
  {
   "cell_type": "markdown",
   "id": "3fb9a186",
   "metadata": {},
   "source": [
    "###### Thank You "
   ]
  },
  {
   "cell_type": "code",
   "execution_count": null,
   "id": "c2e7f4ea",
   "metadata": {},
   "outputs": [],
   "source": []
  },
  {
   "cell_type": "code",
   "execution_count": null,
   "id": "efd45b52",
   "metadata": {},
   "outputs": [],
   "source": []
  }
 ],
 "metadata": {
  "kernelspec": {
   "display_name": "Python 3 (ipykernel)",
   "language": "python",
   "name": "python3"
  },
  "language_info": {
   "codemirror_mode": {
    "name": "ipython",
    "version": 3
   },
   "file_extension": ".py",
   "mimetype": "text/x-python",
   "name": "python",
   "nbconvert_exporter": "python",
   "pygments_lexer": "ipython3",
   "version": "3.11.2"
  }
 },
 "nbformat": 4,
 "nbformat_minor": 5
}
